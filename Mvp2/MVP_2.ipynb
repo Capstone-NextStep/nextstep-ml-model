{
  "nbformat": 4,
  "nbformat_minor": 0,
  "metadata": {
    "colab": {
      "provenance": [],
      "gpuType": "T4"
    },
    "kernelspec": {
      "name": "python3",
      "display_name": "Python 3"
    },
    "language_info": {
      "name": "python"
    },
    "accelerator": "GPU"
  },
  "cells": [
    {
      "cell_type": "markdown",
      "source": [
        "##**Library Imports**"
      ],
      "metadata": {
        "id": "iAzwbW1qE7m7"
      }
    },
    {
      "cell_type": "code",
      "source": [
        "import pickle\n",
        "import numpy as np\n",
        "import tensorflow as tf\n",
        "from tensorflow.keras.preprocessing.text import Tokenizer\n",
        "from tensorflow.keras.preprocessing.sequence import pad_sequences\n",
        "from tensorflow.keras.models import Sequential\n",
        "from tensorflow.keras.layers import Embedding, LSTM, Dense, Dropout, Bidirectional\n",
        "from tensorflow.keras.callbacks import EarlyStopping, ModelCheckpoint\n",
        "from sklearn.preprocessing import LabelEncoder\n",
        "import pandas as pd\n",
        "import matplotlib.pyplot as plt"
      ],
      "metadata": {
        "id": "fKjHmQLmfR4g"
      },
      "execution_count": 1,
      "outputs": []
    },
    {
      "cell_type": "code",
      "source": [
        "print(f\"NumPy version: {np.__version__}\")\n",
        "print(f\"TensorFlow version: {tf.__version__}\")\n",
        "print(f\"Pandas version: {pd.__version__}\")\n",
        "print(f\"Matplotlib version: {matplotlib.__version__}\")\n",
        "print(f\"Scikit-learn version: {sklearn.__version__}\")"
      ],
      "metadata": {
        "colab": {
          "base_uri": "https://localhost:8080/"
        },
        "id": "KjEmp4ggwnQX",
        "outputId": "1ac7494b-8a8b-42a1-f867-4a00ea13ace9"
      },
      "execution_count": 28,
      "outputs": [
        {
          "output_type": "stream",
          "name": "stdout",
          "text": [
            "NumPy version: 1.26.4\n",
            "TensorFlow version: 2.17.1\n",
            "Pandas version: 2.2.2\n",
            "Matplotlib version: 3.8.0\n",
            "Scikit-learn version: 1.5.2\n"
          ]
        }
      ]
    },
    {
      "cell_type": "markdown",
      "source": [
        "##**Load Dataset**"
      ],
      "metadata": {
        "id": "ldjBVOabuhJl"
      }
    },
    {
      "cell_type": "code",
      "source": [
        "# 1. Load Dataset\n",
        "file_path = '/content/UpdatedResumeDataSet.csv'  # Ganti dengan path file dataset-mu\n",
        "dataset = pd.read_csv(file_path)"
      ],
      "metadata": {
        "id": "QxsRrfSsfTgH"
      },
      "execution_count": 2,
      "outputs": []
    },
    {
      "cell_type": "markdown",
      "source": [
        "##**Data Cleaning**"
      ],
      "metadata": {
        "id": "62C5mPnsulQc"
      }
    },
    {
      "cell_type": "code",
      "source": [
        "# Function to clean text\n",
        "def clean_text(text):\n",
        "    text = text.lower()\n",
        "    text = ''.join([char for char in text if char.isalnum() or char.isspace()])\n",
        "    return text\n",
        "# Data cleaning\n",
        "dataset['Resume'] = dataset['Resume'].apply(clean_text)"
      ],
      "metadata": {
        "id": "wXYxYEu5uS0p"
      },
      "execution_count": 3,
      "outputs": []
    },
    {
      "cell_type": "markdown",
      "source": [
        "##**Text Tokenization dan Label Encoding**"
      ],
      "metadata": {
        "id": "EDWSkr3UuqVM"
      }
    },
    {
      "cell_type": "code",
      "source": [
        "# Tokenizer setup\n",
        "texts = dataset['Resume'].values\n",
        "labels = dataset['Category'].values\n",
        "\n",
        "tokenizer = Tokenizer(num_words=5000)\n",
        "tokenizer.fit_on_texts(texts)\n",
        "sequences = tokenizer.texts_to_sequences(texts)\n",
        "max_length = 200  # Adjusted based on resume text length\n",
        "padded_sequences = pad_sequences(sequences, maxlen=max_length, padding='post')\n",
        "\n",
        "# Label encoding\n",
        "label_encoder = LabelEncoder()\n",
        "encoded_labels = label_encoder.fit_transform(labels)"
      ],
      "metadata": {
        "id": "pLQFZMFprMer"
      },
      "execution_count": 4,
      "outputs": []
    },
    {
      "cell_type": "markdown",
      "source": [
        "##**Train-Test Split**"
      ],
      "metadata": {
        "id": "Va2h39X9u0BG"
      }
    },
    {
      "cell_type": "code",
      "source": [
        "# Splitting data (train/test split)\n",
        "from sklearn.model_selection import train_test_split\n",
        "train_padded, test_padded, train_labels, test_labels = train_test_split(\n",
        "    padded_sequences, encoded_labels, test_size=0.2, random_state=42\n",
        ")"
      ],
      "metadata": {
        "id": "HUw0bTV1rjEx"
      },
      "execution_count": 5,
      "outputs": []
    },
    {
      "cell_type": "markdown",
      "source": [
        "##**Model Architecture**"
      ],
      "metadata": {
        "id": "lM7StoCTu6OA"
      }
    },
    {
      "cell_type": "code",
      "source": [
        "# Model architecture\n",
        "from tensorflow.keras.layers import Bidirectional\n",
        "\n",
        "embedding_dim = 100\n",
        "model = Sequential([\n",
        "    Embedding(input_dim=5000, output_dim=embedding_dim, input_length=max_length),\n",
        "    Bidirectional(LSTM(128, return_sequences=True)),\n",
        "    Dropout(0.5),\n",
        "    LSTM(64),\n",
        "    Dense(32, activation='relu'),\n",
        "    Dense(len(set(labels)), activation='softmax')\n",
        "])\n",
        "model.compile(optimizer='adam', loss='sparse_categorical_crossentropy', metrics=['accuracy'])"
      ],
      "metadata": {
        "id": "5p6S4DPIfcfv",
        "colab": {
          "base_uri": "https://localhost:8080/"
        },
        "outputId": "a6a2172a-01f9-41ae-9786-984ad189b041"
      },
      "execution_count": 6,
      "outputs": [
        {
          "output_type": "stream",
          "name": "stderr",
          "text": [
            "/usr/local/lib/python3.10/dist-packages/keras/src/layers/core/embedding.py:90: UserWarning: Argument `input_length` is deprecated. Just remove it.\n",
            "  warnings.warn(\n"
          ]
        }
      ]
    },
    {
      "cell_type": "markdown",
      "source": [
        "##**Callbacks for Training**"
      ],
      "metadata": {
        "id": "IbPNqGynvA4d"
      }
    },
    {
      "cell_type": "code",
      "source": [
        "# Callbacks for training\n",
        "early_stopping = EarlyStopping(monitor='val_loss', patience=3, restore_best_weights=True)\n",
        "# ModelCheckpoint setup\n",
        "\n",
        "model_checkpoint = ModelCheckpoint(\n",
        "    filepath='best_resume_classifier_model.keras',  # Ganti dengan ekstensi .keras\n",
        "    monitor='val_loss',\n",
        "    save_best_only=True,\n",
        "    mode='min',\n",
        "    verbose=1\n",
        ")"
      ],
      "metadata": {
        "id": "lo72wndRqNK7"
      },
      "execution_count": 7,
      "outputs": []
    },
    {
      "cell_type": "markdown",
      "source": [
        "##**Model Training**"
      ],
      "metadata": {
        "id": "7-6UCsOsvDuP"
      }
    },
    {
      "cell_type": "code",
      "source": [
        "# Model training\n",
        "history = model.fit(\n",
        "    train_padded, train_labels,\n",
        "    validation_data=(test_padded, test_labels),\n",
        "    epochs=20,\n",
        "    batch_size=32,\n",
        "    callbacks=[early_stopping, model_checkpoint]\n",
        ")"
      ],
      "metadata": {
        "id": "Hgqxk6zfff6x",
        "collapsed": true,
        "colab": {
          "base_uri": "https://localhost:8080/"
        },
        "outputId": "7ec5b5fe-79a7-4629-b085-b4e80f56ac94"
      },
      "execution_count": 8,
      "outputs": [
        {
          "output_type": "stream",
          "name": "stdout",
          "text": [
            "Epoch 1/20\n",
            "\u001b[1m25/25\u001b[0m \u001b[32m━━━━━━━━━━━━━━━━━━━━\u001b[0m\u001b[37m\u001b[0m \u001b[1m0s\u001b[0m 38ms/step - accuracy: 0.0694 - loss: 3.2011\n",
            "Epoch 1: val_loss improved from inf to 3.07151, saving model to best_resume_classifier_model.keras\n",
            "\u001b[1m25/25\u001b[0m \u001b[32m━━━━━━━━━━━━━━━━━━━━\u001b[0m\u001b[37m\u001b[0m \u001b[1m10s\u001b[0m 72ms/step - accuracy: 0.0699 - loss: 3.2001 - val_accuracy: 0.1036 - val_loss: 3.0715\n",
            "Epoch 2/20\n",
            "\u001b[1m24/25\u001b[0m \u001b[32m━━━━━━━━━━━━━━━━━━━\u001b[0m\u001b[37m━\u001b[0m \u001b[1m0s\u001b[0m 26ms/step - accuracy: 0.1638 - loss: 2.9384\n",
            "Epoch 2: val_loss improved from 3.07151 to 2.70153, saving model to best_resume_classifier_model.keras\n",
            "\u001b[1m25/25\u001b[0m \u001b[32m━━━━━━━━━━━━━━━━━━━━\u001b[0m\u001b[37m\u001b[0m \u001b[1m1s\u001b[0m 33ms/step - accuracy: 0.1649 - loss: 2.9354 - val_accuracy: 0.2228 - val_loss: 2.7015\n",
            "Epoch 3/20\n",
            "\u001b[1m25/25\u001b[0m \u001b[32m━━━━━━━━━━━━━━━━━━━━\u001b[0m\u001b[37m\u001b[0m \u001b[1m0s\u001b[0m 22ms/step - accuracy: 0.2212 - loss: 2.5880\n",
            "Epoch 3: val_loss improved from 2.70153 to 2.34903, saving model to best_resume_classifier_model.keras\n",
            "\u001b[1m25/25\u001b[0m \u001b[32m━━━━━━━━━━━━━━━━━━━━\u001b[0m\u001b[37m\u001b[0m \u001b[1m1s\u001b[0m 29ms/step - accuracy: 0.2225 - loss: 2.5837 - val_accuracy: 0.2642 - val_loss: 2.3490\n",
            "Epoch 4/20\n",
            "\u001b[1m25/25\u001b[0m \u001b[32m━━━━━━━━━━━━━━━━━━━━\u001b[0m\u001b[37m\u001b[0m \u001b[1m0s\u001b[0m 23ms/step - accuracy: 0.2866 - loss: 2.2103\n",
            "Epoch 4: val_loss did not improve from 2.34903\n",
            "\u001b[1m25/25\u001b[0m \u001b[32m━━━━━━━━━━━━━━━━━━━━\u001b[0m\u001b[37m\u001b[0m \u001b[1m1s\u001b[0m 27ms/step - accuracy: 0.2881 - loss: 2.2070 - val_accuracy: 0.1710 - val_loss: 2.8210\n",
            "Epoch 5/20\n",
            "\u001b[1m24/25\u001b[0m \u001b[32m━━━━━━━━━━━━━━━━━━━\u001b[0m\u001b[37m━\u001b[0m \u001b[1m0s\u001b[0m 23ms/step - accuracy: 0.3478 - loss: 2.1565\n",
            "Epoch 5: val_loss improved from 2.34903 to 1.95650, saving model to best_resume_classifier_model.keras\n",
            "\u001b[1m25/25\u001b[0m \u001b[32m━━━━━━━━━━━━━━━━━━━━\u001b[0m\u001b[37m\u001b[0m \u001b[1m1s\u001b[0m 30ms/step - accuracy: 0.3506 - loss: 2.1473 - val_accuracy: 0.4611 - val_loss: 1.9565\n",
            "Epoch 6/20\n",
            "\u001b[1m24/25\u001b[0m \u001b[32m━━━━━━━━━━━━━━━━━━━\u001b[0m\u001b[37m━\u001b[0m \u001b[1m0s\u001b[0m 23ms/step - accuracy: 0.5062 - loss: 1.7989\n",
            "Epoch 6: val_loss improved from 1.95650 to 1.72899, saving model to best_resume_classifier_model.keras\n",
            "\u001b[1m25/25\u001b[0m \u001b[32m━━━━━━━━━━━━━━━━━━━━\u001b[0m\u001b[37m\u001b[0m \u001b[1m1s\u001b[0m 30ms/step - accuracy: 0.5058 - loss: 1.7965 - val_accuracy: 0.4508 - val_loss: 1.7290\n",
            "Epoch 7/20\n",
            "\u001b[1m24/25\u001b[0m \u001b[32m━━━━━━━━━━━━━━━━━━━\u001b[0m\u001b[37m━\u001b[0m \u001b[1m0s\u001b[0m 23ms/step - accuracy: 0.5462 - loss: 1.6106\n",
            "Epoch 7: val_loss improved from 1.72899 to 1.54798, saving model to best_resume_classifier_model.keras\n",
            "\u001b[1m25/25\u001b[0m \u001b[32m━━━━━━━━━━━━━━━━━━━━\u001b[0m\u001b[37m\u001b[0m \u001b[1m1s\u001b[0m 30ms/step - accuracy: 0.5479 - loss: 1.6043 - val_accuracy: 0.5389 - val_loss: 1.5480\n",
            "Epoch 8/20\n",
            "\u001b[1m23/25\u001b[0m \u001b[32m━━━━━━━━━━━━━━━━━━\u001b[0m\u001b[37m━━\u001b[0m \u001b[1m0s\u001b[0m 23ms/step - accuracy: 0.6057 - loss: 1.3789\n",
            "Epoch 8: val_loss improved from 1.54798 to 1.44043, saving model to best_resume_classifier_model.keras\n",
            "\u001b[1m25/25\u001b[0m \u001b[32m━━━━━━━━━━━━━━━━━━━━\u001b[0m\u001b[37m\u001b[0m \u001b[1m1s\u001b[0m 30ms/step - accuracy: 0.6061 - loss: 1.3752 - val_accuracy: 0.5699 - val_loss: 1.4404\n",
            "Epoch 9/20\n",
            "\u001b[1m24/25\u001b[0m \u001b[32m━━━━━━━━━━━━━━━━━━━\u001b[0m\u001b[37m━\u001b[0m \u001b[1m0s\u001b[0m 23ms/step - accuracy: 0.6367 - loss: 1.2676\n",
            "Epoch 9: val_loss improved from 1.44043 to 1.32122, saving model to best_resume_classifier_model.keras\n",
            "\u001b[1m25/25\u001b[0m \u001b[32m━━━━━━━━━━━━━━━━━━━━\u001b[0m\u001b[37m\u001b[0m \u001b[1m1s\u001b[0m 30ms/step - accuracy: 0.6370 - loss: 1.2653 - val_accuracy: 0.5855 - val_loss: 1.3212\n",
            "Epoch 10/20\n",
            "\u001b[1m24/25\u001b[0m \u001b[32m━━━━━━━━━━━━━━━━━━━\u001b[0m\u001b[37m━\u001b[0m \u001b[1m0s\u001b[0m 23ms/step - accuracy: 0.6616 - loss: 1.1770\n",
            "Epoch 10: val_loss improved from 1.32122 to 1.22958, saving model to best_resume_classifier_model.keras\n",
            "\u001b[1m25/25\u001b[0m \u001b[32m━━━━━━━━━━━━━━━━━━━━\u001b[0m\u001b[37m\u001b[0m \u001b[1m1s\u001b[0m 29ms/step - accuracy: 0.6630 - loss: 1.1741 - val_accuracy: 0.6788 - val_loss: 1.2296\n",
            "Epoch 11/20\n",
            "\u001b[1m25/25\u001b[0m \u001b[32m━━━━━━━━━━━━━━━━━━━━\u001b[0m\u001b[37m\u001b[0m \u001b[1m0s\u001b[0m 31ms/step - accuracy: 0.7225 - loss: 1.0559\n",
            "Epoch 11: val_loss did not improve from 1.22958\n",
            "\u001b[1m25/25\u001b[0m \u001b[32m━━━━━━━━━━━━━━━━━━━━\u001b[0m\u001b[37m\u001b[0m \u001b[1m1s\u001b[0m 36ms/step - accuracy: 0.7222 - loss: 1.0560 - val_accuracy: 0.6684 - val_loss: 1.3383\n",
            "Epoch 12/20\n",
            "\u001b[1m25/25\u001b[0m \u001b[32m━━━━━━━━━━━━━━━━━━━━\u001b[0m\u001b[37m\u001b[0m \u001b[1m0s\u001b[0m 32ms/step - accuracy: 0.6997 - loss: 1.1191\n",
            "Epoch 12: val_loss improved from 1.22958 to 1.13721, saving model to best_resume_classifier_model.keras\n",
            "\u001b[1m25/25\u001b[0m \u001b[32m━━━━━━━━━━━━━━━━━━━━\u001b[0m\u001b[37m\u001b[0m \u001b[1m1s\u001b[0m 43ms/step - accuracy: 0.7005 - loss: 1.1166 - val_accuracy: 0.6736 - val_loss: 1.1372\n",
            "Epoch 13/20\n",
            "\u001b[1m25/25\u001b[0m \u001b[32m━━━━━━━━━━━━━━━━━━━━\u001b[0m\u001b[37m\u001b[0m \u001b[1m0s\u001b[0m 25ms/step - accuracy: 0.7138 - loss: 1.0446\n",
            "Epoch 13: val_loss did not improve from 1.13721\n",
            "\u001b[1m25/25\u001b[0m \u001b[32m━━━━━━━━━━━━━━━━━━━━\u001b[0m\u001b[37m\u001b[0m \u001b[1m1s\u001b[0m 28ms/step - accuracy: 0.7136 - loss: 1.0446 - val_accuracy: 0.6528 - val_loss: 1.2323\n",
            "Epoch 14/20\n",
            "\u001b[1m25/25\u001b[0m \u001b[32m━━━━━━━━━━━━━━━━━━━━\u001b[0m\u001b[37m\u001b[0m \u001b[1m0s\u001b[0m 23ms/step - accuracy: 0.7102 - loss: 1.0562\n",
            "Epoch 14: val_loss improved from 1.13721 to 1.13233, saving model to best_resume_classifier_model.keras\n",
            "\u001b[1m25/25\u001b[0m \u001b[32m━━━━━━━━━━━━━━━━━━━━\u001b[0m\u001b[37m\u001b[0m \u001b[1m1s\u001b[0m 31ms/step - accuracy: 0.7102 - loss: 1.0542 - val_accuracy: 0.6736 - val_loss: 1.1323\n",
            "Epoch 15/20\n",
            "\u001b[1m24/25\u001b[0m \u001b[32m━━━━━━━━━━━━━━━━━━━\u001b[0m\u001b[37m━\u001b[0m \u001b[1m0s\u001b[0m 23ms/step - accuracy: 0.5646 - loss: 1.4490\n",
            "Epoch 15: val_loss did not improve from 1.13233\n",
            "\u001b[1m25/25\u001b[0m \u001b[32m━━━━━━━━━━━━━━━━━━━━\u001b[0m\u001b[37m\u001b[0m \u001b[1m1s\u001b[0m 27ms/step - accuracy: 0.5646 - loss: 1.4499 - val_accuracy: 0.6528 - val_loss: 1.2290\n",
            "Epoch 16/20\n",
            "\u001b[1m25/25\u001b[0m \u001b[32m━━━━━━━━━━━━━━━━━━━━\u001b[0m\u001b[37m\u001b[0m \u001b[1m0s\u001b[0m 24ms/step - accuracy: 0.7346 - loss: 1.0203\n",
            "Epoch 16: val_loss improved from 1.13233 to 1.10144, saving model to best_resume_classifier_model.keras\n",
            "\u001b[1m25/25\u001b[0m \u001b[32m━━━━━━━━━━━━━━━━━━━━\u001b[0m\u001b[37m\u001b[0m \u001b[1m1s\u001b[0m 30ms/step - accuracy: 0.7342 - loss: 1.0211 - val_accuracy: 0.6788 - val_loss: 1.1014\n",
            "Epoch 17/20\n",
            "\u001b[1m23/25\u001b[0m \u001b[32m━━━━━━━━━━━━━━━━━━\u001b[0m\u001b[37m━━\u001b[0m \u001b[1m0s\u001b[0m 24ms/step - accuracy: 0.7225 - loss: 0.9767\n",
            "Epoch 17: val_loss improved from 1.10144 to 1.04647, saving model to best_resume_classifier_model.keras\n",
            "\u001b[1m25/25\u001b[0m \u001b[32m━━━━━━━━━━━━━━━━━━━━\u001b[0m\u001b[37m\u001b[0m \u001b[1m1s\u001b[0m 30ms/step - accuracy: 0.7236 - loss: 0.9730 - val_accuracy: 0.6839 - val_loss: 1.0465\n",
            "Epoch 18/20\n",
            "\u001b[1m25/25\u001b[0m \u001b[32m━━━━━━━━━━━━━━━━━━━━\u001b[0m\u001b[37m\u001b[0m \u001b[1m0s\u001b[0m 23ms/step - accuracy: 0.7335 - loss: 0.9276\n",
            "Epoch 18: val_loss improved from 1.04647 to 1.01940, saving model to best_resume_classifier_model.keras\n",
            "\u001b[1m25/25\u001b[0m \u001b[32m━━━━━━━━━━━━━━━━━━━━\u001b[0m\u001b[37m\u001b[0m \u001b[1m1s\u001b[0m 30ms/step - accuracy: 0.7336 - loss: 0.9265 - val_accuracy: 0.6943 - val_loss: 1.0194\n",
            "Epoch 19/20\n",
            "\u001b[1m25/25\u001b[0m \u001b[32m━━━━━━━━━━━━━━━━━━━━\u001b[0m\u001b[37m\u001b[0m \u001b[1m0s\u001b[0m 23ms/step - accuracy: 0.7273 - loss: 0.9470\n",
            "Epoch 19: val_loss improved from 1.01940 to 1.01746, saving model to best_resume_classifier_model.keras\n",
            "\u001b[1m25/25\u001b[0m \u001b[32m━━━━━━━━━━━━━━━━━━━━\u001b[0m\u001b[37m\u001b[0m \u001b[1m1s\u001b[0m 29ms/step - accuracy: 0.7279 - loss: 0.9449 - val_accuracy: 0.6943 - val_loss: 1.0175\n",
            "Epoch 20/20\n",
            "\u001b[1m24/25\u001b[0m \u001b[32m━━━━━━━━━━━━━━━━━━━\u001b[0m\u001b[37m━\u001b[0m \u001b[1m0s\u001b[0m 23ms/step - accuracy: 0.7292 - loss: 0.9107\n",
            "Epoch 20: val_loss improved from 1.01746 to 1.00822, saving model to best_resume_classifier_model.keras\n",
            "\u001b[1m25/25\u001b[0m \u001b[32m━━━━━━━━━━━━━━━━━━━━\u001b[0m\u001b[37m\u001b[0m \u001b[1m1s\u001b[0m 33ms/step - accuracy: 0.7300 - loss: 0.9082 - val_accuracy: 0.6995 - val_loss: 1.0082\n"
          ]
        }
      ]
    },
    {
      "cell_type": "markdown",
      "source": [
        "##**Training Results Visualization**"
      ],
      "metadata": {
        "id": "vYfEmZYdvHrN"
      }
    },
    {
      "cell_type": "code",
      "source": [
        "# Visualization of training results\n",
        "plt.figure(figsize=(12, 6))\n",
        "plt.subplot(1, 2, 1)\n",
        "plt.plot(history.history['accuracy'], label='Train Accuracy')\n",
        "plt.plot(history.history['val_accuracy'], label='Validation Accuracy')\n",
        "plt.xlabel('Epoch')\n",
        "plt.ylabel('Accuracy')\n",
        "plt.title('Training and Validation Accuracy')\n",
        "plt.legend()\n",
        "\n",
        "plt.subplot(1, 2, 2)\n",
        "plt.plot(history.history['loss'], label='Train Loss')\n",
        "plt.plot(history.history['val_loss'], label='Validation Loss')\n",
        "plt.xlabel('Epoch')\n",
        "plt.ylabel('Loss')\n",
        "plt.title('Training and Validation Loss')\n",
        "plt.legend()\n",
        "\n",
        "plt.tight_layout()\n",
        "plt.show()\n"
      ],
      "metadata": {
        "id": "yoZrsVj8r-wm",
        "colab": {
          "base_uri": "https://localhost:8080/",
          "height": 484
        },
        "outputId": "f03b067f-5890-4133-c0c8-94b9138fb0d8"
      },
      "execution_count": 9,
      "outputs": [
        {
          "output_type": "display_data",
          "data": {
            "text/plain": [
              "<Figure size 1200x600 with 2 Axes>"
            ],
            "image/png": "[encoded data removed]"
          },
          "metadata": {}
        }
      ]
    },
    {
      "cell_type": "markdown",
      "source": [
        "##**Save Model and Preprocessors**"
      ],
      "metadata": {
        "id": "yJ1Kcr3AvPl-"
      }
    },
    {
      "cell_type": "code",
      "source": [
        "# Save model, tokenizer, and label encoder\n",
        "model.save('best_resume_classifier_model.h5')\n",
        "with open('tokenizer.pickle', 'wb') as handle:\n",
        "    pickle.dump(tokenizer, handle, protocol=pickle.HIGHEST_PROTOCOL)\n",
        "\n",
        "with open('label_encoder.pickle', 'wb') as handle:\n",
        "    pickle.dump(label_encoder, handle, protocol=pickle.HIGHEST_PROTOCOL)"
      ],
      "metadata": {
        "id": "m8i44thir5Ax",
        "colab": {
          "base_uri": "https://localhost:8080/"
        },
        "outputId": "fd10f892-8c62-4a9d-ebea-4047904e7abc"
      },
      "execution_count": 10,
      "outputs": [
        {
          "output_type": "stream",
          "name": "stderr",
          "text": [
            "WARNING:absl:You are saving your model as an HDF5 file via `model.save()` or `keras.saving.save_model(model)`. This file format is considered legacy. We recommend using instead the native Keras format, e.g. `model.save('my_model.keras')` or `keras.saving.save_model(model, 'my_model.keras')`. \n"
          ]
        }
      ]
    },
    {
      "cell_type": "markdown",
      "source": [
        "##**Template-Based Resume Generator**"
      ],
      "metadata": {
        "id": "svAlymEBvTyl"
      }
    },
    {
      "cell_type": "code",
      "source": [
        "# Template-Based Resume Generator\n",
        "templates = {\n",
        "    \"Software Engineer\": \"Skilled in software development using languages such as Java, Python, C++, and frameworks like Spring and Hibernate. Experienced in building, testing, and maintaining software applications.\",\n",
        "    \"Data Analyst\": \"Proficient in data collection, cleaning, and visualization. Skilled in using Excel, SQL, and Python to analyze datasets and provide actionable insights.\",\n",
        "    \"Network Engineer\": \"Expert in configuring, managing, and troubleshooting network infrastructure, ensuring efficient data flow, and maintaining network security.\",\n",
        "    \"Cloud Architect\": \"Experienced in designing and managing cloud infrastructure using platforms such as AWS, Azure, and Google Cloud. Skilled in cloud security, scalability, and cost optimization.\",\n",
        "    \"Cybersecurity Analyst\": \"Skilled in protecting IT systems and networks from cyber threats. Experienced in risk analysis, penetration testing, and implementing security protocols.\",\n",
        "    \"IT Project Manager\": \"Proficient in managing IT projects from initiation to completion, ensuring projects are delivered on time and within budget. Experienced in using Agile and Waterfall methodologies.\",\n",
        "    \"Data Scientist\": \"Expert in using machine learning algorithms, statistical modeling, and data visualization techniques to extract insights and create predictive models from large datasets.\",\n",
        "    \"DevOps Engineer\": \"Skilled in automating and optimizing processes in software development and deployment. Experienced with tools like Jenkins, Docker, Kubernetes, and cloud services.\",\n",
        "    \"IT Support Analyst\": \"Provides technical support and troubleshooting for IT systems and applications. Experienced in diagnosing software and hardware issues and offering solutions to users.\",\n",
        "    \"UX/UI Designer\": \"Experienced in designing user-centered interfaces and creating intuitive user experiences. Skilled in wireframing, prototyping, and using design tools like Sketch and Adobe XD.\",\n",
        "    \"Database Analyst\": \"Skilled in designing, managing, and optimizing databases using SQL and other database management systems. Experienced in data migration and performance tuning.\",\n",
        "    \"UI Developer\": \"Proficient in front-end web development using HTML, CSS, and JavaScript. Skilled in creating interactive, responsive user interfaces.\",\n",
        "    \"System Administrator\": \"Experienced in maintaining and configuring computer systems and servers. Skilled in network administration, troubleshooting, and security implementations.\",\n",
        "    \"AI/ML Engineer\": \"Proficient in developing and deploying machine learning models. Experienced in using frameworks like TensorFlow, PyTorch, and scikit-learn to create AI applications.\",\n",
        "    \"IT Auditor\": \"Skilled in assessing IT systems for compliance, identifying risks, and ensuring systems are secure and adhere to industry standards.\",\n",
        "    \"Network Security Engineer\": \"Experienced in securing networks and IT infrastructure. Skilled in firewall configuration, intrusion detection, and vulnerability assessments.\",\n",
        "    \"Software Tester\": \"Experienced in creating and executing test plans, identifying bugs, and ensuring software products meet quality standards.\",\n",
        "    \"Cloud Solutions Architect\": \"Skilled in designing and implementing scalable cloud-based solutions. Expertise in AWS, Azure, and Google Cloud platforms.\",\n",
        "    \"IT Consultant\": \"Provides expert advice on IT solutions to businesses. Experienced in system design, project management, and technology integration.\",\n",
        "    \"Front-end Developer\": \"Proficient in HTML, CSS, JavaScript, and front-end frameworks like React and Angular. Skilled in creating dynamic, user-friendly web pages.\",\n",
        "    \"Business Analyst\": \"Skilled in analyzing business processes and data. Experienced in creating reports and recommending improvements to streamline operations.\",\n",
        "    \"IT Helpdesk Support\": \"Provides first-line technical support for IT-related issues. Skilled in troubleshooting hardware, software, and network problems.\",\n",
        "    \"DevSecOps Engineer\": \"Combines development, security, and operations expertise to ensure secure and efficient software delivery pipelines.\",\n",
        "    \"Data Engineer\": \"Skilled in designing and building data pipelines, transforming raw data into actionable insights, and working with big data tools like Hadoop and Spark.\",\n",
        "    \"IT Trainer\": \"Experienced in providing training on IT systems, software applications, and best practices. Skilled in designing learning modules and workshops.\",\n",
        "    \"Cloud Security Engineer\": \"Expert in securing cloud-based infrastructure and applications. Experienced in threat modeling, encryption, and access control in cloud environments.\",\n",
        "    \"IT Procurement Specialist\": \"Responsible for sourcing and purchasing IT hardware and software. Experienced in vendor management and cost optimization.\",\n",
        "    \"UX Researcher\": \"Skilled in conducting user research to inform design decisions. Expertise in usability testing, user interviews, and surveys.\",\n",
        "    \"Blockchain Developer\": \"Experienced in developing decentralized applications using blockchain technology. Skilled in Solidity and blockchain platforms like Ethereum.\",\n",
        "    \"IT Risk Analyst\": \"Skilled in assessing and mitigating risks in IT systems. Experienced in conducting risk assessments, vulnerability analysis, and risk management strategies.\",\n",
        "    \"Cloud Support Engineer\": \"Provides technical support for cloud infrastructure. Skilled in troubleshooting and optimizing cloud services to meet business needs.\",\n",
        "    \"IT Sales Manager\": \"Responsible for driving sales in IT products and services. Skilled in customer relationship management, sales strategies, and product knowledge.\",\n",
        "    \"Data Privacy Officer\": \"Ensures the protection of personal data and compliance with data privacy laws. Experienced in developing data protection strategies and conducting audits.\",\n",
        "    \"Software Architect\": \"Experienced in designing software systems and defining architecture standards. Skilled in system integration and software design principles.\",\n",
        "    \"IT Quality Analyst\": \"Skilled in ensuring software quality through testing, quality assurance procedures, and continuous improvement.\",\n",
        "    \"Mobile App Developer\": \"Proficient in developing mobile applications for iOS and Android platforms. Skilled in using tools like Swift, Kotlin, and React Native.\",\n",
        "    \"IT Procurement Manager\": \"Oversees procurement of IT products and services. Experienced in vendor management, contract negotiation, and budgeting.\",\n",
        "    \"IT Compliance Officer\": \"Ensures that IT systems and operations comply with industry regulations and internal policies.\",\n",
        "    \"Full-stack Developer\": \"Skilled in both front-end and back-end web development. Experienced in building full-stack applications using technologies like JavaScript, Node.js, and databases.\",\n",
        "    \"IT Business Analyst\": \"Combines business analysis with IT expertise to bridge the gap between business needs and technology solutions.\",\n",
        "    \"IT Trainer Assistant\": \"Assists in training employees on IT systems and tools. Helps in the creation of training materials and user guides.\",\n",
        "    \"AI Ethics Consultant\": \"Advises on ethical considerations in AI development and deployment, ensuring fairness, transparency, and accountability in AI systems.\",\n",
        "    \"IT Support Specialist\": \"Provides support for IT infrastructure, managing hardware, software, and networks to ensure seamless operations.\",\n",
        "    \"Data Analytics Manager\": \"Manages data analytics teams and projects, ensuring efficient data collection, analysis, and reporting for business decision-making.\",\n",
        "    \"IT Project Coordinator\": \"Coordinates IT projects from planning to execution. Manages schedules, budgets, and resources to ensure successful project delivery.\",\n",
        "    \"Cloud Solutions Analyst\": \"Assists in designing cloud-based solutions and optimizations for business needs, focusing on cost-efficiency and scalability.\",\n",
        "    \"IT Governance Manager\": \"Responsible for implementing IT governance policies to ensure IT systems align with business objectives and comply with regulations.\",\n",
        "    \"Cybersecurity Engineer\": \"Specialized in defending IT systems from cyber-attacks. Experienced in network security, encryption, and threat prevention.\",\n",
        "    \"IT Procurement Analyst\": \"Analyzes procurement processes and helps source IT products and services while optimizing costs and ensuring compliance.\",\n",
        "    \"Data Science\": \"\"\"A highly skilled professional with expertise in Python, machine learning, and data analysis. Experienced in creating predictive models and generating actionable insights.\"\"\",\n",
        "    \"HR\": \"\"\"A human resources professional with extensive experience in recruitment, employee relations, and performance management. Skilled in fostering a positive workplace culture.\"\"\",\n",
        "    \"Advocate\": \"\"\"A qualified advocate with in-depth knowledge of legal systems, drafting contracts, and representing clients in court. Adept at providing strategic legal advice.\"\"\",\n",
        "    \"Arts\": \"\"\"A creative individual skilled in various art forms including painting, sculpture, and digital design. Passionate about expressing ideas through visual storytelling.\"\"\",\n",
        "    \"Web Designing\": \"\"\"Expert in web development using HTML5, CSS3, and JavaScript. Skilled in front-end frameworks like Bootstrap and building responsive websites.\"\"\",\n",
        "    \"Mechanical Engineer\": \"\"\"An experienced mechanical engineer specializing in CAD/CAM, thermal engineering, and robotics. Adept at solving complex engineering problems.\"\"\",\n",
        "    \"Sales\": \"\"\"A results-driven sales professional skilled in building client relationships, closing deals, and meeting sales targets. Experienced in B2B and B2C environments.\"\"\",\n",
        "    \"Health and Fitness\": \"\"\"A certified fitness trainer with expertise in creating personalized workout plans, nutrition guidance, and promoting overall wellness.\"\"\",\n",
        "    \"Civil Engineer\": \"\"\"A proficient civil engineer skilled in project management, structural design, and site supervision. Adept at using tools like AutoCAD and SAP2000.\"\"\",\n",
        "    \"Java Developer\": \"\"\"Proficient in Java, J2EE, Spring, and Hibernate. Experienced in building scalable enterprise applications and backend systems.\"\"\",\n",
        "    \"Business Analyst\": \"\"\"An analytical professional with expertise in gathering requirements, process improvement, and stakeholder management. Skilled in tools like Tableau and Excel.\"\"\",\n",
        "    \"SAP Developer\": \"\"\"An experienced SAP developer skilled in ABAP, Fiori, and SAP HANA. Adept at implementing and optimizing SAP solutions for business needs.\"\"\",\n",
        "    \"Automation Testing\": \"\"\"An automation testing expert proficient in Selenium, Appium, and JMeter. Experienced in creating robust automated test scripts.\"\"\",\n",
        "    \"Electrical Engineering\": \"\"\"A skilled electrical engineer with expertise in circuit design, power systems, and renewable energy solutions. Proficient in tools like MATLAB and PSCAD.\"\"\",\n",
        "    \"Operations Manager\": \"\"\"An operations manager with extensive experience in supply chain management, resource allocation, and improving operational efficiency.\"\"\",\n",
        "    \"Python Developer\": \"\"\"A Python developer skilled in building web applications, data analysis, and scripting. Experienced with frameworks like Django and Flask.\"\"\",\n",
        "    \"DevOps Engineer\": \"\"\"A DevOps engineer with expertise in CI/CD pipelines, containerization using Docker, and orchestration with Kubernetes. Skilled in cloud platforms like AWS and Azure.\"\"\",\n",
        "    \"Network Security Engineer\": \"\"\"A network security engineer specializing in securing IT infrastructures, implementing firewalls, and conducting vulnerability assessments.\"\"\",\n",
        "    \"PMO\": \"\"\"A project management professional skilled in project planning, resource management, and ensuring timely delivery of milestones.\"\"\",\n",
        "    \"Database\": \"\"\"A database expert with hands-on experience in database design, optimization, and administration. Skilled in MySQL, PostgreSQL, and MongoDB.\"\"\",\n",
        "    \"Hadoop\": \"\"\"A big data specialist with expertise in Hadoop ecosystem, including HDFS, MapReduce, Hive, and Spark. Skilled in data ingestion and processing.\"\"\",\n",
        "    \"ETL Developer\": \"\"\"An ETL developer experienced in designing and implementing ETL pipelines using tools like Informatica and Talend. Skilled in data integration and transformation.\"\"\",\n",
        "    \"DotNet Developer\": \"\"\"A .NET developer with expertise in building web and desktop applications using C#, ASP.NET, and MVC frameworks.\"\"\",\n",
        "    \"Blockchain\": \"\"\"A blockchain developer with knowledge of smart contracts, Ethereum, and decentralized application (dApp) development. Skilled in Solidity and Hyperledger.\"\"\",\n",
        "    \"Testing\": \"\"\"A quality assurance professional skilled in manual and automated testing. Proficient in tools like Selenium, Postman, and JIRA.\"\"\"\n",
        "}\n",
        "\n",
        "def generate_resume_description_template(category):\n",
        "    return templates.get(category, \"Sorry, no description available for this category.\")"
      ],
      "metadata": {
        "id": "dNzOsCe0g0Ym"
      },
      "execution_count": 11,
      "outputs": []
    },
    {
      "cell_type": "markdown",
      "source": [
        "##**Inference Pipeline**"
      ],
      "metadata": {
        "id": "c6TmR5tuvchn"
      }
    },
    {
      "cell_type": "code",
      "source": [
        "# Inference pipeline\n",
        "def preprocess_input(text, tokenizer, max_length):\n",
        "    text = clean_text(text)\n",
        "    sequence = tokenizer.texts_to_sequences([text])\n",
        "    padded_sequence = pad_sequences(sequence, maxlen=max_length, padding='post')\n",
        "    return padded_sequence\n",
        "\n",
        "def predict_category(text, model, tokenizer, label_encoder, max_length):\n",
        "    padded_sequence = preprocess_input(text, tokenizer, max_length)\n",
        "    prediction = model.predict(padded_sequence)\n",
        "    predicted_label = np.argmax(prediction)\n",
        "    return label_encoder.inverse_transform([predicted_label])[0]"
      ],
      "metadata": {
        "id": "N4bccR2HsBUR"
      },
      "execution_count": 12,
      "outputs": []
    },
    {
      "cell_type": "code",
      "source": [
        "# Test prediction and template generation\n",
        "loaded_model = tf.keras.models.load_model('best_resume_classifier_model.h5')\n",
        "with open('tokenizer.pickle', 'rb') as handle:\n",
        "    loaded_tokenizer = pickle.load(handle)\n",
        "with open('label_encoder.pickle', 'rb') as handle:\n",
        "    loaded_label_encoder = pickle.load(handle)"
      ],
      "metadata": {
        "colab": {
          "base_uri": "https://localhost:8080/"
        },
        "id": "ecf1v-5Ug_JX",
        "outputId": "5b1e9f8c-253b-4f9f-8c7f-0f043712d5f9"
      },
      "execution_count": 13,
      "outputs": [
        {
          "output_type": "stream",
          "name": "stderr",
          "text": [
            "WARNING:absl:Compiled the loaded model, but the compiled metrics have yet to be built. `model.compile_metrics` will be empty until you train or evaluate the model.\n"
          ]
        }
      ]
    },
    {
      "cell_type": "code",
      "source": [
        "# Test prediction\n",
        "sample_resume = \"\"\"Experienced in Python, R, and data visualization tools. Skilled in machine learning and analytics.\"\"\"\n",
        "predicted_category = predict_category(sample_resume, loaded_model, loaded_tokenizer, loaded_label_encoder, max_length)\n",
        "print(\"Predicted Category:\", predicted_category)"
      ],
      "metadata": {
        "colab": {
          "base_uri": "https://localhost:8080/"
        },
        "id": "Yjgb-tLehFM9",
        "outputId": "e11d851e-929a-419d-aa37-7c897dac842a"
      },
      "execution_count": 14,
      "outputs": [
        {
          "output_type": "stream",
          "name": "stdout",
          "text": [
            "\u001b[1m1/1\u001b[0m \u001b[32m━━━━━━━━━━━━━━━━━━━━\u001b[0m\u001b[37m\u001b[0m \u001b[1m0s\u001b[0m 253ms/step\n",
            "Predicted Category: Java Developer\n"
          ]
        }
      ]
    },
    {
      "cell_type": "code",
      "source": [
        "# Example: Generate resume description from category\n",
        "resume_description = generate_resume_description_template(predicted_category)\n",
        "print(\"\\nGenerated Resume Description:\")\n",
        "print(resume_description)"
      ],
      "metadata": {
        "colab": {
          "base_uri": "https://localhost:8080/"
        },
        "id": "_Xv38PzZhG_9",
        "outputId": "66bce6b6-7bc9-46a5-cb5f-3d4a7133fdb7"
      },
      "execution_count": 15,
      "outputs": [
        {
          "output_type": "stream",
          "name": "stdout",
          "text": [
            "\n",
            "Generated Resume Description:\n",
            "Proficient in Java, J2EE, Spring, and Hibernate. Experienced in building scalable enterprise applications and backend systems.\n"
          ]
        }
      ]
    },
    {
      "cell_type": "code",
      "source": [
        "# Test with another category\n",
        "test_category = \"Network Security Engineer\"\n",
        "generated_description = generate_resume_description_template(test_category)\n",
        "print(f\"\\nGenerated Resume Description for {test_category}:\")\n",
        "print(generated_description)"
      ],
      "metadata": {
        "colab": {
          "base_uri": "https://localhost:8080/"
        },
        "id": "UAngV5vRni_Q",
        "outputId": "334f1f6b-ce98-4661-8c98-a1e476350ab0"
      },
      "execution_count": 16,
      "outputs": [
        {
          "output_type": "stream",
          "name": "stdout",
          "text": [
            "\n",
            "Generated Resume Description for Network Security Engineer:\n",
            "A network security engineer specializing in securing IT infrastructures, implementing firewalls, and conducting vulnerability assessments.\n"
          ]
        }
      ]
    },
    {
      "cell_type": "markdown",
      "source": [
        "### **Template-Based Resume Abstrak Generator**"
      ],
      "metadata": {
        "id": "vwEJh1-gvjRR"
      }
    },
    {
      "cell_type": "code",
      "source": [
        "# Template-Based Resume Abstrak Generator\n",
        "templates = {\n",
        "    \"Data Science\": \"\"\"A highly skilled professional with expertise in Python, machine learning, and data analysis.\n",
        "Experienced in creating predictive models and generating actionable insights.\"\"\",\n",
        "\n",
        "    \"HR\": \"\"\"A human resources professional with extensive experience in recruitment, employee relations, and performance management. Skilled in fostering a positive workplace culture.\"\"\",\n",
        "\n",
        "    \"Advocate\": \"\"\"A qualified advocate with in-depth knowledge of legal systems, drafting contracts, and representing clients in court. Adept at providing strategic legal advice.\"\"\",\n",
        "\n",
        "    \"Arts\": \"\"\"A creative individual skilled in various art forms including painting, sculpture, and digital design. Passionate about expressing ideas through visual storytelling.\"\"\",\n",
        "\n",
        "    \"Web Designing\": \"\"\"Expert in web development using HTML5, CSS3, and JavaScript. Skilled in front-end frameworks like Bootstrap and building responsive websites.\"\"\",\n",
        "\n",
        "    \"Mechanical Engineer\": \"\"\"An experienced mechanical engineer specializing in CAD/CAM, thermal engineering, and robotics. Adept at solving complex engineering problems.\"\"\",\n",
        "\n",
        "    \"Sales\": \"\"\"A results-driven sales professional skilled in building client relationships, closing deals, and meeting sales targets. Experienced in B2B and B2C environments.\"\"\",\n",
        "\n",
        "    \"Health and Fitness\": \"\"\"A certified fitness trainer with expertise in creating personalized workout plans, nutrition guidance, and promoting overall wellness.\"\"\",\n",
        "\n",
        "    \"Civil Engineer\": \"\"\"A proficient civil engineer skilled in project management, structural design, and site supervision. Adept at using tools like AutoCAD and SAP2000.\"\"\",\n",
        "\n",
        "    \"Java Developer\": \"\"\"A proficient Java developer with hands-on experience in J2EE, Spring, Hibernate, and database management using MySQL and PostgreSQL. Skilled in building robust backend systems.\"\"\",\n",
        "\n",
        "    \"Business Analyst\": \"\"\"An analytical professional with expertise in gathering requirements, process improvement, and stakeholder management. Skilled in tools like Tableau and Excel.\"\"\",\n",
        "\n",
        "    \"SAP Developer\": \"\"\"An experienced SAP developer skilled in ABAP, Fiori, and SAP HANA. Adept at implementing and optimizing SAP solutions for business needs.\"\"\",\n",
        "\n",
        "    \"Automation Testing\": \"\"\"An automation testing expert proficient in Selenium, Appium, and JMeter. Experienced in creating robust automated test scripts.\"\"\",\n",
        "\n",
        "    \"Electrical Engineering\": \"\"\"A skilled electrical engineer with expertise in circuit design, power systems, and renewable energy solutions. Proficient in tools like MATLAB and PSCAD.\"\"\",\n",
        "\n",
        "    \"Operations Manager\": \"\"\"An operations manager with extensive experience in supply chain management, resource allocation, and improving operational efficiency.\"\"\",\n",
        "\n",
        "    \"Python Developer\": \"\"\"A Python developer skilled in building web applications, data analysis, and scripting. Experienced with frameworks like Django and Flask.\"\"\",\n",
        "\n",
        "    \"DevOps Engineer\": \"\"\"A DevOps engineer with expertise in CI/CD pipelines, containerization using Docker, and orchestration with Kubernetes. Skilled in cloud platforms like AWS and Azure.\"\"\",\n",
        "\n",
        "    \"Network Security Engineer\": \"\"\"A network security engineer specializing in securing IT infrastructures, implementing firewalls, and conducting vulnerability assessments.\"\"\",\n",
        "\n",
        "    \"PMO\": \"\"\"A project management professional skilled in project planning, resource management, and ensuring timely delivery of milestones.\"\"\",\n",
        "\n",
        "    \"Database\": \"\"\"A database expert with hands-on experience in database design, optimization, and administration. Skilled in MySQL, PostgreSQL, and MongoDB.\"\"\",\n",
        "\n",
        "    \"Hadoop\": \"\"\"A big data specialist with expertise in Hadoop ecosystem, including HDFS, MapReduce, Hive, and Spark. Skilled in data ingestion and processing.\"\"\",\n",
        "\n",
        "    \"ETL Developer\": \"\"\"An ETL developer experienced in designing and implementing ETL pipelines using tools like Informatica and Talend. Skilled in data integration and transformation.\"\"\",\n",
        "\n",
        "    \"DotNet Developer\": \"\"\"A .NET developer with expertise in building web and desktop applications using C#, ASP.NET, and MVC frameworks.\"\"\",\n",
        "\n",
        "    \"Blockchain\": \"\"\"A blockchain developer with knowledge of smart contracts, Ethereum, and decentralized application (dApp) development. Skilled in Solidity and Hyperledger.\"\"\",\n",
        "\n",
        "    \"Testing\": \"\"\"A quality assurance professional skilled in manual and automated testing. Proficient in tools like Selenium, Postman, and JIRA.\"\"\",\n",
        "}\n",
        "\n",
        "def generate_cv_summary(job_category):\n",
        "    \"\"\"\n",
        "    Generate a CV summary based on the desired job category.\n",
        "\n",
        "    Parameters:\n",
        "        job_category (str): The job category chosen by the user (e.g., 'Data Science').\n",
        "\n",
        "    Returns:\n",
        "        str: A short CV summary or a message if the category is not available.\n",
        "    \"\"\"\n",
        "    return templates.get(job_category, \"Sorry, we don't have a summary for this job category yet.\")\n"
      ],
      "metadata": {
        "id": "re1iH5HiJun-"
      },
      "execution_count": 17,
      "outputs": []
    },
    {
      "cell_type": "code",
      "source": [
        "# Simulasi input user\n",
        "user_desired_job = input(\"Enter the job you want (e.g., Data Science, Web Developer): \").strip()"
      ],
      "metadata": {
        "colab": {
          "base_uri": "https://localhost:8080/"
        },
        "id": "mt3N2GOTJySj",
        "outputId": "cc90d526-33b2-4829-d8a4-8783343d0e99"
      },
      "execution_count": 18,
      "outputs": [
        {
          "name": "stdout",
          "output_type": "stream",
          "text": [
            "Enter the job you want (e.g., Data Science, Web Developer): Data Science\n"
          ]
        }
      ]
    },
    {
      "cell_type": "code",
      "source": [
        "# Generate abstrak CV\n",
        "cv_summary = generate_cv_summary(user_desired_job)\n",
        "print(\"\\nGenerated CV Abstract:\")\n",
        "print(cv_summary)"
      ],
      "metadata": {
        "colab": {
          "base_uri": "https://localhost:8080/"
        },
        "id": "HlcAAduOJ5_f",
        "outputId": "aba7458a-62ec-4721-e506-5daeee6beb51"
      },
      "execution_count": 19,
      "outputs": [
        {
          "output_type": "stream",
          "name": "stdout",
          "text": [
            "\n",
            "Generated CV Abstract:\n",
            "A highly skilled professional with expertise in Python, machine learning, and data analysis.\n",
            "Experienced in creating predictive models and generating actionable insights.\n"
          ]
        }
      ]
    }
  ]
}